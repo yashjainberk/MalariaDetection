{
  "nbformat": 4,
  "nbformat_minor": 0,
  "metadata": {
    "colab": {
      "provenance": [],
      "include_colab_link": true
    },
    "kernelspec": {
      "name": "python3",
      "display_name": "Python 3"
    }
  },
  "cells": [
    {
      "cell_type": "markdown",
      "metadata": {
        "id": "view-in-github",
        "colab_type": "text"
      },
      "source": [
        "<a href=\"https://colab.research.google.com/github/yashjainberk/MalariaDetection/blob/main/CS189_HW_NN.ipynb\" target=\"_parent\"><img src=\"https://colab.research.google.com/assets/colab-badge.svg\" alt=\"Open In Colab\"/></a>"
      ]
    },
    {
      "cell_type": "markdown",
      "metadata": {
        "id": "xxYASTXBDVc3"
      },
      "source": [
        "# CS 189 Neural Networks Homework\n",
        "**Note:** before starting this notebook, please save a copy of it to your own google drive, or your changes will not persist.\n",
        "\n",
        "This part of the assignment is designed to get you familiar with how engineers in the real world train neural network systems. It isn't designed to be difficult. In fact, everything you need to complete the assignment is available directly on the pytorch website [here](https://pytorch.org/tutorials/beginner/blitz/neural_networks_tutorial.html). This note book will have the following components:\n",
        "\n",
        "1. Understanding the basics of Pytorch (no deliverables)\n",
        "2. Training a simple neural network on FasionMNIST (Deliverable = training graphs)\n",
        "3. Training a convolutional neural network on CIFAR-10 (Deliverable = training graphs, explanation of methods and CSV file)\n",
        "\n",
        "You will also get practice being an ML engineer, by reading documentation and using it to implement models. The first section of this notebook will cover an outline of what you need to know -- we are confident that you can find the rest on your own.\n",
        "\n",
        "You just need to complete the deliverables and turn in your code. If you want to run this notebook locally on your own GPUs, make sure to appropriately install pytorch on your system. If you don't want to use pytorch and instead want to experiment with Tensorflow, feel free, but you may still need to install pytorch to download the datasets. Moreover, our staff has more familiarity with pytorch, and may be unable to assist you in case you run into any errors with tensorflow.\n"
      ]
    },
    {
      "cell_type": "code",
      "metadata": {
        "id": "5qoJVI0RCyaH"
      },
      "source": [
        "# Imports for pytorch\n",
        "import numpy as np\n",
        "import torch\n",
        "import torchvision\n",
        "from torch import nn\n",
        "import matplotlib\n",
        "from matplotlib import pyplot as plt\n",
        "import tqdm.notebook as tqdm"
      ],
      "execution_count": 1,
      "outputs": []
    },
    {
      "cell_type": "markdown",
      "metadata": {
        "id": "9-GpmsVIEYLn"
      },
      "source": [
        "# 1. Understanding Pytorch\n",
        "\n",
        "Pytorch is based on the \"autograd\" paradigm. Essentially, you perform operations on multi-dimensional arrays like in numpy, except pytorch will automatically handle gradient tracking. In this section you will understand how to use pytorch.\n",
        "\n",
        "This section should help you understand the full pipeline of creating and training a model in pytorch. Feel free to re-use code from this section in the assigned tasks.\n",
        "\n",
        "Content in this section closely follows this pytorch tutorial: https://pytorch.org/tutorials/beginner/basics/intro.html"
      ]
    },
    {
      "cell_type": "markdown",
      "metadata": {
        "id": "OgaXYlojE5Pm"
      },
      "source": [
        "## Tensors\n",
        "\n",
        "Tensors can be created from numpy data or by using pytorch directly."
      ]
    },
    {
      "cell_type": "code",
      "metadata": {
        "id": "6iKkuKmnFNvP",
        "colab": {
          "base_uri": "https://localhost:8080/"
        },
        "outputId": "66257671-8984-483b-92a7-016f2fe9d646"
      },
      "source": [
        "data = [[1, 2], [3, 4]]\n",
        "x_data = torch.tensor(data)\n",
        "\n",
        "np_array = np.array(data)\n",
        "x_np = torch.from_numpy(np_array)\n",
        "\n",
        "shape = (2,3,)\n",
        "rand_tensor = torch.rand(shape)\n",
        "np_rand_array = rand_tensor.numpy()\n",
        "\n",
        "print(f\"Tensor from np: \\n {x_np} \\n\")\n",
        "print(f\"Rand Tensor: \\n {rand_tensor} \\n\")\n",
        "print(f\"Rand Numpy Array: \\n {np_rand_array} \\n\")"
      ],
      "execution_count": 2,
      "outputs": [
        {
          "output_type": "stream",
          "name": "stdout",
          "text": [
            "Tensor from np: \n",
            " tensor([[1, 2],\n",
            "        [3, 4]]) \n",
            "\n",
            "Rand Tensor: \n",
            " tensor([[0.4522, 0.5048, 0.6524],\n",
            "        [0.1616, 0.1458, 0.9624]]) \n",
            "\n",
            "Rand Numpy Array: \n",
            " [[0.4522015  0.50482994 0.65243745]\n",
            " [0.16155589 0.14584535 0.96242857]] \n",
            "\n"
          ]
        }
      ]
    },
    {
      "cell_type": "markdown",
      "metadata": {
        "id": "UEeXQUJqFk0k"
      },
      "source": [
        "They also support slicing and math operations very similar to numpy. See the examples below:"
      ]
    },
    {
      "cell_type": "code",
      "metadata": {
        "id": "zIGbRiM-FfCx",
        "colab": {
          "base_uri": "https://localhost:8080/"
        },
        "outputId": "b1f557cf-e60a-4a42-aa43-1410d875f5e3"
      },
      "source": [
        "# Slicing\n",
        "tensor = torch.ones(4, 4)\n",
        "print('First row: ',tensor[0])\n",
        "print('First column: ', tensor[:, 0])\n",
        "\n",
        "# Matrix Operations\n",
        "y1 = tensor @ tensor.T\n",
        "y2 = tensor.matmul(tensor.T)\n",
        "\n",
        "# Getting a single item\n",
        "scalar = torch.sum(y1) # sums all elements\n",
        "item = scalar.item()\n",
        "print(\"Sum as a tensor:\", scalar, \", Sum as an item:\", item)"
      ],
      "execution_count": 3,
      "outputs": [
        {
          "output_type": "stream",
          "name": "stdout",
          "text": [
            "First row:  tensor([1., 1., 1., 1.])\n",
            "First column:  tensor([1., 1., 1., 1.])\n",
            "Sum as a tensor: tensor(64.) , Sum as an item: 64.0\n"
          ]
        }
      ]
    },
    {
      "cell_type": "markdown",
      "metadata": {
        "id": "g0fscsOfH3dz"
      },
      "source": [
        "## Autograd\n",
        "This small section shows you how pytorch computes gradients. When we create tenors, we can set `requires_grad` to be true to indicate that we are using gradients. For most of the work that you actually do, you will use the `nn` package, which automatically sets all parameter tensors to have `requires_grad=True`."
      ]
    },
    {
      "cell_type": "code",
      "metadata": {
        "id": "X1btdxFJIvz_",
        "colab": {
          "base_uri": "https://localhost:8080/"
        },
        "outputId": "aed340df-fabb-4cb4-d12e-4f36e90525a6"
      },
      "source": [
        "# Below is an example of computing the gradient for a single data point in logistic regression using pytorch's autograd.\n",
        "\n",
        "x = torch.ones(5)  # input tensor\n",
        "y = torch.zeros(1) # label\n",
        "w = torch.randn(5, 1, requires_grad=True)\n",
        "b = torch.randn(1, requires_grad=True)\n",
        "pred = torch.sigmoid(torch.matmul(x, w) + b)\n",
        "loss = torch.nn.functional.binary_cross_entropy(pred, y)\n",
        "loss.backward() # Computers gradients\n",
        "print(\"W gradient:\", w.grad)\n",
        "print(\"b gradient:\", b.grad)\n",
        "\n",
        "# when we want to actually take an update step, we can use optimizers:\n",
        "optimizer = torch.optim.SGD([w, b], lr=0.1)\n",
        "print(\"Weight before\", w)\n",
        "optimizer.step() # use the computed gradients to update\n",
        "# Print updated weights\n",
        "print(\"Updated weight\", w)\n",
        "\n",
        "# Performing operations with gradients enabled is slow...\n",
        "# You can disable gradient computation using the following enclosure:\n",
        "with torch.no_grad():\n",
        "    # Perform operations without gradients\n",
        "    ..."
      ],
      "execution_count": 4,
      "outputs": [
        {
          "output_type": "stream",
          "name": "stdout",
          "text": [
            "W gradient: tensor([[0.1033],\n",
            "        [0.1033],\n",
            "        [0.1033],\n",
            "        [0.1033],\n",
            "        [0.1033]])\n",
            "b gradient: tensor([0.1033])\n",
            "Weight before tensor([[ 0.1044],\n",
            "        [ 0.7552],\n",
            "        [-1.1477],\n",
            "        [-0.6450],\n",
            "        [-0.2845]], requires_grad=True)\n",
            "Updated weight tensor([[ 0.0940],\n",
            "        [ 0.7449],\n",
            "        [-1.1580],\n",
            "        [-0.6553],\n",
            "        [-0.2948]], requires_grad=True)\n"
          ]
        }
      ]
    },
    {
      "cell_type": "markdown",
      "metadata": {
        "id": "5n9WqzZdGf-J"
      },
      "source": [
        "## Devices\n",
        "Pytorch supports accelerating computation using GPUs which are available on google colab. To use a GPU on google colab, go to runtime -> change runtime type -> select GPU.\n",
        "\n",
        "Note that there is some level of strategy for knowing when to use which runtime type. Colab will kick users off of GPU for a certain period of time if you use it too much. Thus, its best to run simple models and prototype to get everything working on CPU, then switch the instance type over to GPU for training runs and parameter tuning.\n",
        "\n",
        "Its best practice to make sure your code works on any device (GPU or CPU) for pytorch, but note that numpy operations can only run on the CPU. Here is a standard flow for using GPU acceleration:"
      ]
    },
    {
      "cell_type": "code",
      "metadata": {
        "id": "LwHYcdpmG0Tq",
        "colab": {
          "base_uri": "https://localhost:8080/"
        },
        "outputId": "0a122188-d6b6-4c56-b632-93dedbd33e0c"
      },
      "source": [
        "# Determine the device\n",
        "device = torch.device(\"cuda\" if torch.cuda.is_available() else \"cpu\")\n",
        "print(\"Using device\", device)\n",
        "# Next create your tensors\n",
        "tensor = torch.zeros(4, 4, requires_grad=True)\n",
        "# Move the tensor to the device you want to use\n",
        "tensor = tensor.to(device)\n",
        "\n",
        "# Perform whatever operations you want.... (often this will involve gradients)\n",
        "# These operations will be accelerated by GPU.\n",
        "tensor = 10*(tensor + 1)\n",
        "\n",
        "# bring the tensor back to CPU, first detaching it from any gradient computations\n",
        "tensor = tensor.detach().cpu()\n",
        "\n",
        "tensor_np = tensor.numpy() # Convert to numpy if you want to perform numpy operations."
      ],
      "execution_count": 5,
      "outputs": [
        {
          "output_type": "stream",
          "name": "stdout",
          "text": [
            "Using device cuda\n"
          ]
        }
      ]
    },
    {
      "cell_type": "markdown",
      "metadata": {
        "id": "IZvRtdC1NZFe"
      },
      "source": [
        "## The NN Package\n",
        "Pytorch implements composable blocks in `Module` classes. All layers and modules in pytorch inherit from `nn.Module`. When you make a module you need to implement two functions: `__init__(self, *args, **kwargs)` and `foward(self, *args, **kwargs)`. Modules also have some nice helper functions, namely `parameters` which will recursively return all of the parameters. Here is an example of a logistic regression model:"
      ]
    },
    {
      "cell_type": "code",
      "metadata": {
        "id": "rNvfGFz4OTp_",
        "colab": {
          "base_uri": "https://localhost:8080/"
        },
        "outputId": "17ebb295-abec-4ddf-adf5-e12f81c4645d"
      },
      "source": [
        "class Perceptron(nn.Module):\n",
        "  def __init__(self, in_dim):\n",
        "    super().__init__()\n",
        "    self.layer = nn.Linear(in_dim, 1) # This is a linear layer, it computes Xw + b\n",
        "\n",
        "  def forward(self, x):\n",
        "    return torch.sigmoid(self.layer(x)).squeeze(-1)\n",
        "\n",
        "perceptron = Perceptron(10)\n",
        "perceptron = perceptron.to(device) # Move all the perceptron's tensors to the device\n",
        "print(\"Parameters\", list(perceptron.parameters()))"
      ],
      "execution_count": 6,
      "outputs": [
        {
          "output_type": "stream",
          "name": "stdout",
          "text": [
            "Parameters [Parameter containing:\n",
            "tensor([[-0.1865,  0.2530, -0.0086,  0.1653, -0.2195,  0.1462,  0.0963, -0.2725,\n",
            "         -0.2537,  0.0771]], device='cuda:0', requires_grad=True), Parameter containing:\n",
            "tensor([-0.0972], device='cuda:0', requires_grad=True)]\n"
          ]
        }
      ]
    },
    {
      "cell_type": "markdown",
      "metadata": {
        "id": "DHV9D362PE0w"
      },
      "source": [
        "## Datasets\n",
        "\n",
        "Pytorch has nice interfaces for using datasets. Suppose we create a logistic regression dataset as follows:"
      ]
    },
    {
      "cell_type": "code",
      "metadata": {
        "id": "G7VBsu23Pj9w",
        "colab": {
          "base_uri": "https://localhost:8080/",
          "height": 430
        },
        "outputId": "a1c70ee0-ae71-4ea7-d171-63c853c3c3ff"
      },
      "source": [
        "c1_x1, c1_x2 = np.random.multivariate_normal([-2.5,3], [[1, 0.3],[0.3, 1]], 100).T\n",
        "c2_x1, c2_x2 = np.random.multivariate_normal([1,1], [[2, 1],[1, 2]], 100).T\n",
        "c1_X = np.vstack((c1_x1, c1_x2)).T\n",
        "c2_X = np.vstack((c2_x1, c2_x2)).T\n",
        "train_X = np.concatenate((c1_X, c2_X))\n",
        "train_y = np.concatenate((np.zeros(100), np.ones(100)))\n",
        "# Shuffle the data\n",
        "permutation = np.random.permutation(train_X.shape[0])\n",
        "train_X = train_X[permutation, :]\n",
        "train_y = train_y[permutation]\n",
        "# Plot the data\n",
        "plt.plot(c1_x1, c1_x2, 'x')\n",
        "plt.plot(c2_x1, c2_x2, 'o')\n",
        "plt.axis('equal')\n",
        "plt.show()"
      ],
      "execution_count": 7,
      "outputs": [
        {
          "output_type": "display_data",
          "data": {
            "text/plain": [
              "<Figure size 640x480 with 1 Axes>"
            ],
            "image/png": "[encoded data removed]"
          },
          "metadata": {}
        }
      ]
    },
    {
      "cell_type": "markdown",
      "metadata": {
        "id": "NQ0_Dch3P4Cd"
      },
      "source": [
        "We can then create a pytorch dataset object as follows. Often times, the default pytorch datasets will create these objects for you. Then, we can apply dataloaders to iterate over the dataset in batches."
      ]
    },
    {
      "cell_type": "code",
      "metadata": {
        "id": "gFUJJdgdPsht"
      },
      "source": [
        "dataset = torch.utils.data.TensorDataset(torch.from_numpy(train_X), torch.from_numpy(train_y))\n",
        "# We can create a dataloader that iterates over the dataset in batches.\n",
        "dataloader = torch.utils.data.DataLoader(dataset, batch_size=10, shuffle=True)\n",
        "for x, y in dataloader:\n",
        "    print(\"Batch x:\", x)\n",
        "    print(\"Batch y:\", y)\n",
        "    break\n",
        "\n",
        "# Clean up the dataloader as we make a new one later\n",
        "del dataloader"
      ],
      "execution_count": null,
      "outputs": []
    },
    {
      "cell_type": "markdown",
      "metadata": {
        "id": "5Vaq5wwPQtNO"
      },
      "source": [
        "## Training Loop Example\n",
        "Here is an example of training a full logistic regression model in pytorch. Note the extensive use of modules -- modules can be used for storing networks, computation steps etc."
      ]
    },
    {
      "cell_type": "code",
      "metadata": {
        "id": "1WwjYScvQms3"
      },
      "source": [
        "device = torch.device(\"cuda\" if torch.cuda.is_available() else \"cpu\")\n",
        "print(\"Using device\", device)\n",
        "\n",
        "epochs = 10\n",
        "batch_size = 10\n",
        "learning_rate = 0.01\n",
        "\n",
        "num_features = dataset[0][0].shape[0]\n",
        "model = Perceptron(num_features).to(device)\n",
        "optimizer = torch.optim.SGD(model.parameters(), lr=learning_rate)\n",
        "criterion = torch.nn.BCELoss()\n",
        "dataloader = torch.utils.data.DataLoader(dataset, batch_size=batch_size, shuffle=True)\n",
        "\n",
        "model.train() # Put model in training mode\n",
        "for epoch in range(epochs):\n",
        "    training_losses = []\n",
        "    for x, y in tqdm.tqdm(dataloader, unit=\"batch\"):\n",
        "        x, y = x.float().to(device), y.float().to(device)\n",
        "        optimizer.zero_grad() # Remove the gradients from the previous step\n",
        "        pred = model(x)\n",
        "        loss = criterion(pred, y)\n",
        "        loss.backward()\n",
        "        optimizer.step()\n",
        "        training_losses.append(loss.item())\n",
        "    print(\"Finished Epoch\", epoch + 1, \", training loss:\", np.mean(training_losses))\n",
        "\n",
        "# We can run predictions on the data to determine the final accuracy.\n",
        "with torch.no_grad():\n",
        "    model.eval() # Put model in eval mode\n",
        "    num_correct = 0\n",
        "    for x, y in dataloader:\n",
        "        x, y = x.float().to(device), y.float().to(device)\n",
        "        pred = model(x)\n",
        "        num_correct += torch.sum(torch.round(pred) == y).item()\n",
        "    print(\"Final Accuracy:\", num_correct / len(dataset))\n",
        "    model.train() # Put model back in train mode"
      ],
      "execution_count": null,
      "outputs": []
    },
    {
      "cell_type": "markdown",
      "metadata": {
        "id": "jOxM8vT4SsD9"
      },
      "source": [
        "# Task 1: MLP For FashionMNIST\n",
        "Now you will train a multi-layer perceptron model on the FashionMNIST dataset.\n",
        "\n",
        "**Deliverables**\n",
        "- Code for training an MLP on FashionMNIST.\n",
        "- A plot of the training and validation loss for at least 8 epochs.\n",
        "- A plot of the training and validation accuracy for each epoch, achieving a final validation accuracy of at least 82%.\n",
        "\n",
        "**Instructions**\n",
        "\n",
        "Below we will create the training and validation datasets for you. It is on you to implement an MLP / Feed Forward neural network yourself. Please leverage the example training loop from above.\n",
        "\n",
        "Here are some pytorch components that you should definitely use:\n",
        "1. `nn.Linear`\n",
        "2. Some activation: `nn.ReLU`, `nn.Tanh`, `nn.Sigmoid`, etc.\n",
        "3. `nn.CrossEntropyLoss`\n",
        "\n",
        "Here are some challenges that you will need to overcome:\n",
        "1. The data is, by default, configured in image form, i.e. a (28 x 28) tensor per sample, instead of single feature vector. You will need to reshape it somewhere to feed it in as vector to the MLP. There are many ways of doing this.\n",
        "2. You need to write code for plotting.\n",
        "3. You need to find the appropriate hyper-parameters to achieve good accuracy.\n",
        "\n",
        "Your underlying model must be fully connected or \"dense\", and may not use any convolutions etc., but you can use anything in `torch.optim` or any layers in `torch.nn` besides `nn.Linear` that do not have weights."
      ]
    },
    {
      "cell_type": "code",
      "metadata": {
        "id": "8sSW4B4yR-G2"
      },
      "source": [
        "# Creating the datasets\n",
        "transform = torchvision.transforms.ToTensor() # feel free to modify this as you see fit.\n",
        "\n",
        "training_data = torchvision.datasets.FashionMNIST(\n",
        "    root=\"data\",\n",
        "    train=True,\n",
        "    download=True,\n",
        "    transform=transform,\n",
        ")\n",
        "\n",
        "validation_data = torchvision.datasets.FashionMNIST(\n",
        "    root=\"data\",\n",
        "    train=False,\n",
        "    download=True,\n",
        "    transform=transform,\n",
        ")"
      ],
      "execution_count": null,
      "outputs": []
    },
    {
      "cell_type": "markdown",
      "source": [
        "Before training a neural network, let's visualize our data first! Running the cell below will display the first 9 images in a 3 by 3 grid."
      ],
      "metadata": {
        "id": "qDToJ1LN1lDt"
      }
    },
    {
      "cell_type": "code",
      "source": [
        "images = [training_data[i][0] for i in range(9)]\n",
        "plt.imshow(torchvision.utils.make_grid(torch.stack(images), nrow=3, padding=5).numpy().transpose((1, 2, 0)))"
      ],
      "metadata": {
        "id": "My5OkEFv1u06"
      },
      "execution_count": null,
      "outputs": []
    },
    {
      "cell_type": "code",
      "metadata": {
        "id": "h4PPZnVCXH8_"
      },
      "source": [
        "### YOUR CODE HERE ###\n",
        "\n"
      ],
      "execution_count": null,
      "outputs": []
    },
    {
      "cell_type": "markdown",
      "metadata": {
        "id": "w2qHmtqRUYHz"
      },
      "source": [
        "# Task 2: CNNs for CIFAR-10\n",
        "\n",
        "In this section, you will create a CNN for the CIFAR dataset, and submit your predictions to the autograder. It is recommended that you use GPU acceleration for this part.\n",
        "\n",
        "**Deliverables**\n",
        "- Code for training a CNN on CIFAR-10.\n",
        "- Provide at least 1 training curve for your model, depicting loss per epoch after training for at least 8 epochs.\n",
        "- Explain the components of your final model, and how you think your design choices contributed to it's performance.\n",
        "- A `predictions.csv` file that will be submitted to the Gradescope autograder, achieving a final test accuracy of at least 75\\%. You will receive half credit if you achieve an accuracy of at least 70\\%.\n",
        "\n",
        "**Instructions**\n",
        "\n",
        "Here are some of the components you should consider using:\n",
        "1. `nn.Conv2d`\n",
        "2. `nn.ReLU`\n",
        "3. `nn.Linear`\n",
        "4. `nn.CrossEntropyLoss`\n",
        "5. `nn.MaxPooling2d` (though many implementations without it exist)\n",
        "\n",
        "We encourage you to explore different ways of improving your model to obtain higher accuracies. Here are some suggestions for things to look into:\n",
        "1. Popular CNN architectures like ResNets, etc.\n",
        "2. Different optimizers and their parameters (see `torch.optim`)\n",
        "3. Image preprocessing / data augmentation (see `torchvision.transforms`)\n",
        "4. Regularization or dropout (see `torch.optim` and `torch.nn` respectively)\n",
        "5. Learning rate scheduling: https://pytorch.org/docs/stable/optim.html#how-to-adjust-learning-rate\n",
        "6. Weight initialization: https://pytorch.org/docs/stable/nn.init.html\n",
        "\n",
        "Though we encourage you to explore, there are some rules:\n",
        "1. You are not allowed to install or use packages not included by default in the Colab Environment.\n",
        "2. You are not allowed to use any pre-defined architectures or feature extractors in your network.\n",
        "3. You are not allowed to use **any** pretrained weights, i.e. no transfer learning.\n",
        "4. You cannot train on the test data (that would pretty much defeat the whole point of machine learning).\n",
        "\n",
        "Otherwise everything is fair game!\n",
        "\n",
        "After you train your model, we have included skeleton code that should be used to generate the predictions that will be submitted to the Autograder. **You must follow the instructions below under the submission header**. Note that if you apply any processing or transformations to the data, you will need to do the same to the test data, otherwise you will likely achieve very low accuracy.\n",
        "\n",
        "It is expected that this task will take a while to train. Our very simple solution achieves a training accuracy of 90.2% and a test accuracy of 74.8% after 10 epochs (be careful of overfitting!). That said, it is possible to achieve 95% or higher test accuracy on CIFAR 10 with a good model design and some hyperparameter tuning."
      ]
    },
    {
      "cell_type": "code",
      "metadata": {
        "id": "Zmwd_kzNT-Cq"
      },
      "source": [
        "# Creating the datasets, feel free to change this as long as you do the same to the test data.\n",
        "# You can also modify this to split the data into training and validation.\n",
        "# See https://pytorch.org/docs/stable/data.html#torch.utils.data.random_split\n",
        "\n",
        "transform = torchvision.transforms.ToTensor()\n",
        "\n",
        "training_data = torchvision.datasets.CIFAR10(\n",
        "    root=\"data\",\n",
        "    train=True,\n",
        "    download=True,\n",
        "    transform=transform,\n",
        ")\n",
        "# If you make a train-test partition it is up to you."
      ],
      "execution_count": null,
      "outputs": []
    },
    {
      "cell_type": "markdown",
      "source": [
        "Again, let's first visualize our data."
      ],
      "metadata": {
        "id": "xY7rDFcg3og6"
      }
    },
    {
      "cell_type": "code",
      "source": [
        "images = [training_data[i][0] for i in range(9)]\n",
        "plt.imshow(torchvision.utils.make_grid(torch.stack(images), nrow=3, padding=5).numpy().transpose((1, 2, 0)))"
      ],
      "metadata": {
        "id": "6PNE-4LT3lx8"
      },
      "execution_count": null,
      "outputs": []
    },
    {
      "cell_type": "code",
      "metadata": {
        "id": "I4DyQNjKjlol"
      },
      "source": [
        "### YOUR CODE HERE ###\n",
        "\n",
        "\n"
      ],
      "execution_count": null,
      "outputs": []
    },
    {
      "cell_type": "markdown",
      "metadata": {
        "id": "pNPuqiPEs8QI"
      },
      "source": [
        "### Autograder Submission\n",
        "The following code is for you to make your submission to the gradescope autograder. Here are the steps you must follow:\n",
        "\n",
        "1. Upload `cifar10_test_data.npy` to the colab notebook by going to files on the right hand pane, then hitting \"upload\".\n",
        "2. Run the following cell to generate the dataset object for the test data. Feel free to modify the code to use the same transforms that you use for the training data. By default, this will re-use the `transform` variable.\n",
        "3. In the second cell, write code to run predictions on the testing dataset and store them into an array called `predictions`.\n",
        "4. Run the final cell which will convert your predictions array into a CSV file.\n",
        "5. Go to the files pane again, and download the file called `submission.csv` by clicking the three dots and then download.\n"
      ]
    },
    {
      "cell_type": "code",
      "metadata": {
        "id": "dzC5hCcZlBoF"
      },
      "source": [
        "from PIL import Image\n",
        "import os\n",
        "\n",
        "class CIFAR10Test(torchvision.datasets.VisionDataset):\n",
        "\n",
        "    def __init__(self, transform=None, target_transform=None):\n",
        "        super(CIFAR10Test, self).__init__(None, transform=transform,\n",
        "                                      target_transform=target_transform)\n",
        "        assert os.path.exists(\"cifar10_test_data.npy\"), \"You must upload the test data to the file system.\"\n",
        "        self.data = [np.load(\"cifar10_test_data.npy\", allow_pickle=False)]\n",
        "\n",
        "        self.data = np.vstack(self.data).reshape(-1, 3, 32, 32)\n",
        "        self.data = self.data.transpose((0, 2, 3, 1))  # convert to HWC\n",
        "\n",
        "    def __getitem__(self, index: int):\n",
        "        img = self.data[index]\n",
        "        img = Image.fromarray(img)\n",
        "        if self.transform is not None:\n",
        "            img = self.transform(img)\n",
        "        return img\n",
        "\n",
        "    def __len__(self) -> int:\n",
        "        return len(self.data)\n",
        "\n",
        "# Create the test dataset\n",
        "testing_data = CIFAR10Test(\n",
        "    transform=transform, # NOTE: Make sure transform is the same as the one used in the training dataset.\n",
        ")"
      ],
      "execution_count": null,
      "outputs": []
    },
    {
      "cell_type": "code",
      "metadata": {
        "id": "mzXwbAetsF4v"
      },
      "source": [
        "### YOUR CODE HERE ###\n",
        "\n",
        "# Recommendation: create a `test_dataloader` from torch.utils.data.DataLoader with `shuffle=False` to iterate over the test data in batches.\n",
        "\n",
        "# Store a numpy vector of the predictions for the test set in the variable `predictions`.\n",
        "predictions = None\n"
      ],
      "execution_count": null,
      "outputs": []
    },
    {
      "cell_type": "code",
      "metadata": {
        "id": "NilUcXbjsuy5"
      },
      "source": [
        "# This code below will generate the predictions.csv file.\n",
        "import pandas as pd\n",
        "\n",
        "if isinstance(predictions, np.ndarray):\n",
        "    predictions = predictions.astype(int)\n",
        "else:\n",
        "    predictions = np.array(predictions, dtype=int)\n",
        "assert predictions.shape == (len(testing_data),), \"Predictions were not the correct shape\"\n",
        "df = pd.DataFrame({'Category': predictions})\n",
        "df.index += 1  # Ensures that the index starts at 1.\n",
        "df.to_csv('predictions.csv', index_label='Id')\n",
        "\n",
        "# Now download the predictions.csv file to submit."
      ],
      "execution_count": null,
      "outputs": []
    },
    {
      "cell_type": "markdown",
      "metadata": {
        "id": "ofNTv8Z57x1w"
      },
      "source": [
        "Congrats! You made it to the end."
      ]
    }
  ]
}